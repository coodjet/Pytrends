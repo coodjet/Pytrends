{
 "cells": [
  {
   "cell_type": "code",
   "execution_count": 1,
   "id": "bc5141c1",
   "metadata": {},
   "outputs": [
    {
     "name": "stdout",
     "output_type": "stream",
     "text": [
      "Requirement already satisfied: pytrends in c:\\anaconda\\lib\\site-packages (4.8.0)\n",
      "Requirement already satisfied: lxml in c:\\anaconda\\lib\\site-packages (from pytrends) (4.8.0)\n",
      "Requirement already satisfied: requests>=2.0 in c:\\anaconda\\lib\\site-packages (from pytrends) (2.27.1)\n",
      "Requirement already satisfied: pandas>=0.25 in c:\\anaconda\\lib\\site-packages (from pytrends) (1.4.2)\n",
      "Requirement already satisfied: python-dateutil>=2.8.1 in c:\\anaconda\\lib\\site-packages (from pandas>=0.25->pytrends) (2.8.2)\n",
      "Requirement already satisfied: numpy>=1.18.5 in c:\\anaconda\\lib\\site-packages (from pandas>=0.25->pytrends) (1.21.5)\n",
      "Requirement already satisfied: pytz>=2020.1 in c:\\anaconda\\lib\\site-packages (from pandas>=0.25->pytrends) (2021.3)\n",
      "Requirement already satisfied: six>=1.5 in c:\\anaconda\\lib\\site-packages (from python-dateutil>=2.8.1->pandas>=0.25->pytrends) (1.16.0)\n",
      "Requirement already satisfied: urllib3<1.27,>=1.21.1 in c:\\anaconda\\lib\\site-packages (from requests>=2.0->pytrends) (1.26.9)\n",
      "Requirement already satisfied: certifi>=2017.4.17 in c:\\anaconda\\lib\\site-packages (from requests>=2.0->pytrends) (2021.10.8)\n",
      "Requirement already satisfied: charset-normalizer~=2.0.0 in c:\\anaconda\\lib\\site-packages (from requests>=2.0->pytrends) (2.0.4)\n",
      "Requirement already satisfied: idna<4,>=2.5 in c:\\anaconda\\lib\\site-packages (from requests>=2.0->pytrends) (3.3)\n"
     ]
    }
   ],
   "source": [
    "#install pytrend\n",
    "!pip install pytrends\n",
    "\n",
    "from pytrends.request import TrendReq\n",
    "import pandas as pd\n",
    "from datetime import date\n",
    "import matplotlib.pyplot as plt\n",
    "import seaborn as sns\n",
    "%matplotlib qt\n",
    "\n",
    "pytrends = TrendReq()\n",
    "pytrends  = TrendReq(hl = 'en-US')\n",
    "keywords = ['Peter Obi','Atiku Abubakar','Bola Tinubu']\n",
    "pytrends.build_payload(keywords, timeframe = 'today 3-m')\n",
    "\n",
    "\n",
    "Trends = pytrends.interest_over_time()\n",
    "Trends = Trends.drop('isPartial', axis = 1)\n",
    "Trends.tail()\n",
    "Trends.head()\n",
    "\n",
    "def plot_keywords(df):\n",
    "    fig = plt.figure(figsize = (12,6))\n",
    "    ax = fig.add_subplot(111)\n",
    "    df.plot(ax=ax)\n",
    "    plt.suptitle('NIGERIAN PRESIDENTIAL CANDIDATES SEARCHES ON GOOGLE TRENDS')\n",
    "    plt.ylabel('Relative search term frequency')\n",
    "    plt.xlabel('Date')\n",
    "    plt.ylim((0,120))\n",
    "    plt.legend(loc='upper left')\n",
    "    return ax\n",
    "\n",
    "plt.style.use('ggplot')\n",
    "ax = plot_keywords(Trends)\n",
    "plt.show()\n",
    "plt.savefig('NIGERIAN PRESIDENTIAL CANDIDATES SEARCHES ON GOOGLE TRENDS')\n",
    "\n",
    "#fig = plt.figure(figsize = (15,8))\n",
    "#ax = fig.add_subplot(111)\n",
    "#plt.plot(Trends)\n",
    "#plt.suptitle('NIGERIAN PRESIDENTIAL CANDIDATES SEARCHES ON GOOGLE TRENDS')\n",
    "#lt.xabel('MONTHS')\n",
    "#lt.ylabel('WEEKELY SEARCHES')\n",
    "#lt.legend(keywords, loc='upper left')\n",
    "#lt.show()\n",
    "\n",
    "Trends_branch = Trends[1:5]\n",
    "Trends_branch\n",
    "\n",
    "Trends_branch.plot.bar()\n",
    "plt.show()\n",
    "plt.savefig('bar')"
   ]
  },
  {
   "cell_type": "code",
   "execution_count": null,
   "id": "4cfc51c1",
   "metadata": {},
   "outputs": [],
   "source": []
  }
 ],
 "metadata": {
  "kernelspec": {
   "display_name": "Python 3 (ipykernel)",
   "language": "python",
   "name": "python3"
  },
  "language_info": {
   "codemirror_mode": {
    "name": "ipython",
    "version": 3
   },
   "file_extension": ".py",
   "mimetype": "text/x-python",
   "name": "python",
   "nbconvert_exporter": "python",
   "pygments_lexer": "ipython3",
   "version": "3.9.12"
  }
 },
 "nbformat": 4,
 "nbformat_minor": 5
}
